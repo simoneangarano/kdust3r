{
 "cells": [
  {
   "cell_type": "markdown",
   "metadata": {},
   "source": [
    "# Inference Time"
   ]
  },
  {
   "cell_type": "code",
   "execution_count": null,
   "metadata": {},
   "outputs": [],
   "source": [
    "from dust3r.inference import inference, load_model\n",
    "from dust3r.utils.image import load_images\n",
    "from dust3r.image_pairs import make_pairs\n",
    "from dust3r.cloud_opt import global_aligner, GlobalAlignerMode\n",
    "\n",
    "import time\n",
    "import numpy as np\n",
    "\n",
    "model_path = \"checkpoints/DUSt3R_ViTLarge_BaseDecoder_512_dpt.pth\"\n",
    "device = 'cuda:6'\n",
    "batch_size = 1\n",
    "schedule = 'cosine'\n",
    "lr = 0.01\n",
    "niter = 300\n",
    "\n",
    "model = load_model(model_path, device)\n",
    "# load_images can take a list of images or a directory\n",
    "images = load_images(['croco/assets/Chateau1.png', 'croco/assets/Chateau2.png'], size=512)"
   ]
  },
  {
   "cell_type": "code",
   "execution_count": null,
   "metadata": {},
   "outputs": [],
   "source": [
    "batch = []\n",
    "for _ in range(100):\n",
    "    times = []\n",
    "    t0 = time.time()\n",
    "    pairs = make_pairs(images, scene_graph='complete', prefilter=None, symmetrize=True)\n",
    "    t1 = time.time()\n",
    "    times.append(t1 - t0)\n",
    "    output, ts = inference(pairs, model, device, batch_size=batch_size, return_times=True)\n",
    "    times += ts\n",
    "    # at this stage, you have the raw dust3r predictions\n",
    "    view1, pred1 = output['view1'], output['pred1']\n",
    "    view2, pred2 = output['view2'], output['pred2']\n",
    "    # here, view1, pred1, view2, pred2 are dicts of lists of len(2)\n",
    "    #  -> because we symmetrize we have (im1, im2) and (im2, im1) pairs\n",
    "    # in each view you have:\n",
    "    # an integer image identifier: view1['idx'] and view2['idx']\n",
    "    # the img: view1['img'] and view2['img']\n",
    "    # the image shape: view1['true_shape'] and view2['true_shape']\n",
    "    # an instance string output by the dataloader: view1['instance'] and view2['instance']\n",
    "    # pred1 and pred2 contains the confidence values: pred1['conf'] and pred2['conf']\n",
    "    # pred1 contains 3D points for view1['img'] in view1['img'] space: pred1['pts3d']\n",
    "    # pred2 contains 3D points for view2['img'] in view1['img'] space: pred2['pts3d_in_other_view']\n",
    "\n",
    "    # next we'll use the global_aligner to align the predictions\n",
    "    # depending on your task, you may be fine with the raw output and not need it\n",
    "    # with only two input images, you could use GlobalAlignerMode.PairViewer: it would just convert the output\n",
    "    # if using GlobalAlignerMode.PairViewer, no need to run compute_global_alignment\n",
    "    t0 = time.time()\n",
    "    scene = global_aligner(output, device=device, mode=GlobalAlignerMode.PointCloudOptimizer)\n",
    "    t1 = time.time()\n",
    "    times.append(t1 - t0)\n",
    "    loss = scene.compute_global_alignment(init=\"mst\", niter=niter, schedule=schedule, lr=lr)\n",
    "\n",
    "    # retrieve useful values from scene:\n",
    "    imgs = scene.imgs\n",
    "    t0 = time.time()\n",
    "    focals = scene.get_focals()\n",
    "    poses = scene.get_im_poses()\n",
    "    pts3d = scene.get_pts3d()\n",
    "    confidence_masks = scene.get_masks()\n",
    "    t1 = time.time()\n",
    "    times.append(t1 - t0)\n",
    "    batch.append(times)\n",
    "\n",
    "batch = np.array(batch)\n",
    "print('Pairing, Encoder, Decoder, Downstream Head')\n",
    "print(f'batch times: {batch.mean(0)}')\n",
    "print(f'batch times std: {batch.std(0)}')\n",
    "print(f'% of time spent in each step: {batch.mean(0) / batch.mean(0).sum() * 100}')"
   ]
  },
  {
   "cell_type": "markdown",
   "metadata": {},
   "source": [
    "    Pairing         Encoder        Decoder        Head           Scene          Scene Parsing\n",
    "    17.82us         19.93ms        26.93ms        11.24ms        72.59ms        6.69ms\n",
    "    0.01%           14.51%         19.59%         8.18%          52.83%         4.87%"
   ]
  },
  {
   "cell_type": "markdown",
   "metadata": {},
   "source": [
    "    Pairing         Encoder        Decoder        Head           Scene          Scene Parsing\n",
    "    19.42us         16.71ms        23.73ms        14.48ms        20.95ms        6.98ms\n",
    "    6.88us          2.81ms         2.23ms         2.51ms         9.37ms         1.19ms\n",
    "    0.02%           20.17%         28.64%         17.48%         25.28%         8.42%"
   ]
  },
  {
   "cell_type": "code",
   "execution_count": null,
   "metadata": {},
   "outputs": [],
   "source": [
    "0.01 + 14.51 + 19.59 + 8.18 + 52.83 + 4.87"
   ]
  },
  {
   "cell_type": "code",
   "execution_count": null,
   "metadata": {},
   "outputs": [],
   "source": [
    "s = [16.71, 23.73, 14.48]\n",
    "s = [19.93, 26.93, 11.24]\n",
    "\n",
    "[i / sum(s) * 100 for i in s]"
   ]
  },
  {
   "cell_type": "code",
   "execution_count": null,
   "metadata": {},
   "outputs": [],
   "source": [
    "sum(s)"
   ]
  },
  {
   "cell_type": "markdown",
   "metadata": {},
   "source": [
    "# Pre-save Features"
   ]
  },
  {
   "cell_type": "code",
   "execution_count": null,
   "metadata": {},
   "outputs": [],
   "source": [
    "from PIL import Image"
   ]
  },
  {
   "cell_type": "code",
   "execution_count": null,
   "metadata": {},
   "outputs": [],
   "source": [
    "Image.open('/ssd1/sa58728/dust3r/data/co3d_subset_processed/apple/110_13051_23361/images/frame000001.jpg')"
   ]
  },
  {
   "cell_type": "code",
   "execution_count": null,
   "metadata": {},
   "outputs": [],
   "source": [
    "import json\n",
    "\n",
    "with open('/ssd1/sa58728/dust3r/data/co3d_subset_processed/selected_seqs_train.json') as f:\n",
    "    train = json.load(f)\n",
    "with open('/ssd1/sa58728/dust3r/data/co3d_subset_processed/selected_seqs_test.json') as f:\n",
    "    test = json.load(f)"
   ]
  },
  {
   "cell_type": "code",
   "execution_count": null,
   "metadata": {},
   "outputs": [],
   "source": [
    "train"
   ]
  },
  {
   "cell_type": "code",
   "execution_count": null,
   "metadata": {},
   "outputs": [],
   "source": [
    "test"
   ]
  },
  {
   "cell_type": "code",
   "execution_count": null,
   "metadata": {},
   "outputs": [],
   "source": [
    "[(i, train[i].keys()) for i in train.keys()]"
   ]
  },
  {
   "cell_type": "code",
   "execution_count": null,
   "metadata": {},
   "outputs": [],
   "source": [
    "from jsondiff import diff\n",
    "diff(train, test)"
   ]
  },
  {
   "cell_type": "code",
   "execution_count": null,
   "metadata": {},
   "outputs": [],
   "source": [
    "import glob\n",
    "\n",
    "list_1 = glob.glob(r\"/ssd1/sa58728/dust3r/data/co3d_subset_processed/*/*/images/*.jpg\")\n",
    "list_2 = glob.glob(r\"/ssd1/sa58728/dust3r/data/co3d_subset_processed/*/*/images/*.npy\")\n",
    "list_3 = glob.glob(r\"/ssd1/sa58728/dust3r/data/co3d_subset_processed/*/*/images/*.npz\")\n",
    "len(list_1), len(list_2), len(list_3)"
   ]
  },
  {
   "cell_type": "code",
   "execution_count": null,
   "metadata": {},
   "outputs": [],
   "source": [
    "list_1 = [f[:-4] for f in list_1]\n",
    "list_2 = [f[:-4] for f in list_2]\n",
    "list_3 = [f[:-4] for f in list_3]"
   ]
  },
  {
   "cell_type": "code",
   "execution_count": null,
   "metadata": {},
   "outputs": [],
   "source": [
    "s = set(list_2)\n",
    "temp = [x for x in list_1 if x not in s]\n",
    "print(sorted(temp))\n",
    "len(temp)"
   ]
  },
  {
   "cell_type": "code",
   "execution_count": null,
   "metadata": {},
   "outputs": [],
   "source": [
    "list_1 == list_2, list_1 == list_3, list_2 == list_3"
   ]
  },
  {
   "cell_type": "code",
   "execution_count": null,
   "metadata": {},
   "outputs": [],
   "source": [
    "list_2\n"
   ]
  },
  {
   "cell_type": "code",
   "execution_count": null,
   "metadata": {},
   "outputs": [],
   "source": [
    "import os\n",
    "\n",
    "for i in list_2:\n",
    "    os.remove(i)\n",
    "    continue"
   ]
  },
  {
   "cell_type": "code",
   "execution_count": null,
   "metadata": {},
   "outputs": [],
   "source": [
    "import torch\n",
    "from dust3r.model import AsymmetricCroCo3DStereo, inf  # noqa: F401, needed when loading the model\n",
    "\n",
    "model = AsymmetricCroCo3DStereo(\n",
    "    pos_embed='RoPE100',\n",
    "    img_size=(224, 224),\n",
    "    head_type='linear',\n",
    "    output_mode='pts3d', \n",
    "    depth_mode=('exp', -inf, inf), \n",
    "    conf_mode=('exp', 1, inf), \n",
    "    enc_embed_dim=192, \n",
    "    enc_depth=12, \n",
    "    enc_num_heads=3, \n",
    "    dec_embed_dim=768, \n",
    "    dec_depth=12, \n",
    "    dec_num_heads=12)"
   ]
  },
  {
   "cell_type": "code",
   "execution_count": null,
   "metadata": {},
   "outputs": [],
   "source": [
    "train_modules = [model.patch_embed, model.mask_generator, model.rope, model.enc_blocks, model.enc_norm]\n",
    "train_params = torch.nn.ParameterList([p for m in train_modules for p in m.parameters()])"
   ]
  },
  {
   "cell_type": "code",
   "execution_count": null,
   "metadata": {},
   "outputs": [],
   "source": [
    "opt = torch.optim.Adam(train_params, lr=1e-3)"
   ]
  },
  {
   "cell_type": "markdown",
   "metadata": {},
   "source": [
    "# Build Model"
   ]
  },
  {
   "cell_type": "code",
   "execution_count": 1,
   "metadata": {},
   "outputs": [],
   "source": [
    "import torch\n",
    "from dust3r.model import AsymmetricCroCo3DStereo, inf  # noqa: F401, needed when loading the model\n",
    "from dust3r.inference import load_model"
   ]
  },
  {
   "cell_type": "code",
   "execution_count": 2,
   "metadata": {},
   "outputs": [],
   "source": [
    "MODEL_KD = \"AsymmetricCroCo3DStereo(pos_embed='RoPE100', img_size=(224, 224), head_type='dpt', \\\n",
    "            output_mode='pts3d', depth_mode=('exp', -inf, inf), conf_mode=('exp', 1, inf), \\\n",
    "            enc_embed_dim=384, enc_depth=12, enc_num_heads=6, dec_embed_dim=768, dec_depth=12, dec_num_heads=12, adapter=True)\"\n",
    "MODEL_NEW = \"AsymmetricCroCo3DStereo(pos_embed='RoPE100', img_size=(224, 224), head_type='dpt', \\\n",
    "            output_mode='pts3d', depth_mode=('exp', -inf, inf), conf_mode=('exp', 1, inf), \\\n",
    "            enc_embed_dim=384, enc_depth=12, enc_num_heads=6, dec_embed_dim=768, dec_depth=12, dec_num_heads=12, adapter=True)\"\n",
    "\n",
    "CKPT = \"checkpoints/DUSt3R_ViTLarge_BaseDecoder_512_dpt.pth\"\n",
    "CKPT_KD = \"log/train_10/checkpoint-best.pth\"\n",
    "CKPT_NEW = \"checkpoints/DUSt3R_ViTSmall_BaseDecoder_512_dpt_kd.pth\""
   ]
  },
  {
   "cell_type": "code",
   "execution_count": 3,
   "metadata": {},
   "outputs": [
    {
     "name": "stdout",
     "output_type": "stream",
     "text": [
      "... loading model from checkpoints/DUSt3R_ViTLarge_BaseDecoder_512_dpt.pth\n",
      "instantiating : AsymmetricCroCo3DStereo(enc_depth=24, dec_depth=12, enc_embed_dim=1024, dec_embed_dim=768, enc_num_heads=16, dec_num_heads=12, pos_embed='RoPE100', patch_embed_cls='PatchEmbedDust3R', img_size=(512, 512), head_type='dpt', output_mode='pts3d', depth_mode=('exp', -inf, inf), conf_mode=('exp', 1, inf), landscape_only=False)\n",
      "<All keys matched successfully>\n"
     ]
    }
   ],
   "source": [
    "model = load_model(CKPT, 'cpu')"
   ]
  },
  {
   "cell_type": "code",
   "execution_count": 5,
   "metadata": {},
   "outputs": [
    {
     "name": "stdout",
     "output_type": "stream",
     "text": [
      "<All keys matched successfully>\n"
     ]
    }
   ],
   "source": [
    "model_kd = eval(MODEL_KD)\n",
    "ckpt_kd = torch.load(CKPT_KD)['model']\n",
    "print(model_kd.load_state_dict(ckpt_kd, strict=True))"
   ]
  },
  {
   "cell_type": "code",
   "execution_count": 6,
   "metadata": {},
   "outputs": [],
   "source": [
    "model_new = eval(MODEL_NEW)"
   ]
  },
  {
   "cell_type": "code",
   "execution_count": 7,
   "metadata": {},
   "outputs": [],
   "source": [
    "module_list = ['decoder_embed', 'dec_norm', 'dec_blocks', 'dec_norm', 'dec_blocks2', 'downstream_head1', 'downstream_head2']\n",
    "module_list_kd = ['patch_embed', 'mask_generator', 'rope', 'enc_blocks', 'enc_norm', 'adapter']"
   ]
  },
  {
   "cell_type": "code",
   "execution_count": 8,
   "metadata": {},
   "outputs": [],
   "source": [
    "for m in module_list:\n",
    "    getattr(model_new, m).load_state_dict(getattr(model, m).state_dict(), strict=True)\n",
    "model_new.mask_token = model.mask_token\n",
    "\n",
    "for m in module_list_kd:\n",
    "    getattr(model_new, m).load_state_dict(getattr(model_kd, m).state_dict(), strict=True)"
   ]
  },
  {
   "cell_type": "code",
   "execution_count": 9,
   "metadata": {},
   "outputs": [],
   "source": [
    "def compare_models(model_1, model_2):\n",
    "    models_differ = 0\n",
    "    for key_item_1, key_item_2 in zip(model_1.state_dict().items(), model_2.state_dict().items()):\n",
    "        if torch.equal(key_item_1[1], key_item_2[1]):\n",
    "            pass\n",
    "        else:\n",
    "            models_differ += 1\n",
    "            if (key_item_1[0] == key_item_2[0]):\n",
    "                print('Mismatch found at', key_item_1[0], key_item_2[0])\n",
    "            else:\n",
    "                print('Error at', key_item_1[0], key_item_2[0])\n",
    "            return False\n",
    "    if models_differ == 0:\n",
    "        # print('Models match perfectly! :)')\n",
    "        return True"
   ]
  },
  {
   "cell_type": "code",
   "execution_count": 10,
   "metadata": {},
   "outputs": [
    {
     "name": "stdout",
     "output_type": "stream",
     "text": [
      "patch_embed True \n",
      "\n",
      "mask_generator True \n",
      "\n",
      "rope True \n",
      "\n",
      "enc_blocks True \n",
      "\n",
      "enc_norm True \n",
      "\n",
      "decoder_embed True \n",
      "\n",
      "dec_blocks True \n",
      "\n",
      "dec_norm True \n",
      "\n",
      "adapter True \n",
      "\n",
      "dec_blocks2 True \n",
      "\n",
      "downstream_head1 True \n",
      "\n",
      "downstream_head2 True \n",
      "\n"
     ]
    }
   ],
   "source": [
    "for m, k in zip(model_kd.named_children(), model_new.named_children()):\n",
    "    print(m[0], compare_models(m[1],k[1]), '\\n')"
   ]
  },
  {
   "cell_type": "code",
   "execution_count": 11,
   "metadata": {},
   "outputs": [
    {
     "name": "stdout",
     "output_type": "stream",
     "text": [
      "Mismatch found at proj.weight proj.weight\n",
      "patch_embed False \n",
      "\n",
      "mask_generator True \n",
      "\n",
      "rope True \n",
      "\n",
      "Mismatch found at 0.norm1.weight 0.norm1.weight\n",
      "enc_blocks False \n",
      "\n",
      "Mismatch found at weight weight\n",
      "enc_norm False \n",
      "\n",
      "decoder_embed True \n",
      "\n",
      "dec_blocks True \n",
      "\n",
      "dec_norm True \n",
      "\n",
      "dec_blocks2 True \n",
      "\n",
      "downstream_head1 True \n",
      "\n",
      "downstream_head2 True \n",
      "\n"
     ]
    }
   ],
   "source": [
    "l = [x for x in model_new.named_children() if x[0] != 'adapter']\n",
    "for m, k in zip(model.named_children(), l):\n",
    "    print(m[0], compare_models(m[1],k[1]), '\\n')\n",
    "    # except:\n",
    "    #     print(m[0], \"Size Mismatch\")"
   ]
  },
  {
   "cell_type": "code",
   "execution_count": 12,
   "metadata": {},
   "outputs": [],
   "source": [
    "torch.save(model_new.state_dict(), CKPT_NEW)"
   ]
  },
  {
   "cell_type": "code",
   "execution_count": 13,
   "metadata": {},
   "outputs": [
    {
     "name": "stdout",
     "output_type": "stream",
     "text": [
      "<All keys matched successfully>\n"
     ]
    }
   ],
   "source": [
    "ckpt_new = torch.load(CKPT_NEW)\n",
    "print(model_kd.load_state_dict(ckpt_new, strict=False))"
   ]
  },
  {
   "cell_type": "code",
   "execution_count": null,
   "metadata": {},
   "outputs": [],
   "source": [
    "def build_model_enc_dec(model_str, device):\n",
    "    teacher = load_model(\"checkpoints/DUSt3R_ViTLarge_BaseDecoder_512_dpt.pth\", device)\n",
    "    teacher.eval()\n",
    "\n",
    "    model = eval(model_str)\n",
    "    model.to(device)\n",
    "    model.eval()\n",
    "\n",
    "    module_list = ['decoder_embed', 'dec_norm', 'dec_blocks', 'dec_norm', 'dec_blocks2', 'downstream_head1', 'downstream_head2']\n",
    "    for m in module_list:\n",
    "        getattr(model, m).load_state_dict(getattr(teacher, m).state_dict(), strict=True)\n",
    "\n",
    "    return teacher, model"
   ]
  },
  {
   "cell_type": "code",
   "execution_count": null,
   "metadata": {},
   "outputs": [],
   "source": [
    "teacher, model = build_model_enc_dec(MODEL_NEW, 'cpu')"
   ]
  },
  {
   "cell_type": "code",
   "execution_count": null,
   "metadata": {},
   "outputs": [],
   "source": [
    "l = [x for x in model.named_children() if x[0] != 'adapter']\n",
    "for m, k in zip(teacher.named_children(), l):\n",
    "    print(m[0], compare_models(m[1],k[1]), '\\n')"
   ]
  },
  {
   "cell_type": "code",
   "execution_count": null,
   "metadata": {},
   "outputs": [],
   "source": [
    "from PIL import Image"
   ]
  },
  {
   "cell_type": "code",
   "execution_count": null,
   "metadata": {},
   "outputs": [],
   "source": [
    "Image.open('/ssd1/sa58728/dust3r/data/co3d_subset_processed/apple/110_13051_23361/images/frame000060.jpg')"
   ]
  },
  {
   "cell_type": "code",
   "execution_count": null,
   "metadata": {},
   "outputs": [],
   "source": [
    "Image.open('/ssd1/sa58728/dust3r/data/co3d_subset_processed/apple/110_13051_23361/images/frame000030.jpg')"
   ]
  },
  {
   "cell_type": "code",
   "execution_count": 2,
   "metadata": {},
   "outputs": [],
   "source": [
    "import torch"
   ]
  },
  {
   "cell_type": "code",
   "execution_count": 14,
   "metadata": {},
   "outputs": [],
   "source": [
    "w0 = torch.load('log/train_w_0/checkpoint-1.pth', map_location='cpu')['model']\n",
    "w1 = torch.load('log/train_x_1/checkpoint-2.pth', map_location='cpu')['model']\n",
    "w2 = torch.load('checkpoints/DUSt3R_ViTLarge_BaseDecoder_512_dpt.pth', map_location='cpu')['model']"
   ]
  },
  {
   "cell_type": "code",
   "execution_count": 24,
   "metadata": {},
   "outputs": [],
   "source": [
    "h0 = torch.load('log_kd/log_h/ckpt/iter_2475.pth', map_location='cpu')\n",
    "h1 = torch.load('log_kd/log_h/ckpt/iter_4950.pth', map_location='cpu')"
   ]
  },
  {
   "cell_type": "code",
   "execution_count": 15,
   "metadata": {},
   "outputs": [],
   "source": [
    "for i, j in zip(w2.items(), w0.items()):\n",
    "    if torch.equal(i[1], j[1]):\n",
    "        print(i[0], torch.equal(i[1], j[1]))"
   ]
  },
  {
   "cell_type": "code",
   "execution_count": 8,
   "metadata": {},
   "outputs": [
    {
     "data": {
      "text/plain": [
       "tensor([[[-1.7697e-02, -1.8177e-03, -3.9878e-03, -5.6380e-04,  5.3062e-03,\n",
       "           3.5115e-03, -1.5750e-03, -4.8616e-03, -3.8338e-03,  4.7166e-03,\n",
       "          -4.6168e-03,  4.5284e-02,  8.3308e-03,  4.3778e-03, -3.3484e-03,\n",
       "           1.7103e-02,  7.8061e-03, -5.6217e-03, -1.0597e-02,  4.0368e-03,\n",
       "          -2.9252e-03,  9.6559e-03, -1.0769e-03,  3.7356e-02, -1.2154e-02,\n",
       "           1.7952e-04,  8.3499e-04,  3.9167e-03, -1.3139e+00, -1.3625e-03,\n",
       "           1.5505e-03,  1.4033e-02,  2.7259e-02,  2.9488e-03,  4.0474e-03,\n",
       "           2.9810e-02,  7.4042e-03, -9.1289e-04,  2.7253e-03, -1.3757e-02,\n",
       "           4.9145e-03, -2.5706e-03, -1.1176e-02, -2.7811e-03,  3.1018e-03,\n",
       "          -1.5461e-02, -5.3620e-04, -2.9286e-03, -4.1516e-03, -7.3503e-03,\n",
       "          -6.3094e-03,  1.4069e-03,  9.0601e-03,  1.1131e-02,  8.2230e-03,\n",
       "           1.0378e-02, -4.1887e-03,  1.0552e-02, -2.8187e-03, -6.2568e-03,\n",
       "           2.7838e-03,  4.0320e-03, -2.9222e-03,  1.4363e-02, -4.7566e-03,\n",
       "           1.1090e-02,  2.0026e-03,  6.3279e-03,  6.4961e-03, -2.0594e-02,\n",
       "           1.1791e-02,  5.7031e-03,  2.3604e-03,  7.5901e-04, -4.5913e-03,\n",
       "          -1.6550e-03,  1.1657e-02, -1.0042e-03, -4.8104e-04,  2.3761e-03,\n",
       "           4.9654e-03,  6.3395e-01,  1.0745e-03,  3.5501e-03, -9.5593e-03,\n",
       "           4.3149e-03, -8.0079e-03, -2.3820e-03, -5.9199e-05,  6.1098e-04,\n",
       "           1.4417e-03, -6.2239e-03, -2.6514e-03,  4.0608e-03,  2.0116e-02,\n",
       "           1.8381e-04,  5.6366e-03,  1.3442e-02, -2.8767e-03, -1.6936e-03,\n",
       "           2.7998e-03, -1.3003e-03, -6.3396e-03,  2.2507e-02,  6.5262e-04,\n",
       "           6.5985e-03,  1.3529e-02, -2.1882e-03, -9.5375e-03, -3.2427e-03,\n",
       "          -1.7065e-03, -5.0481e-03, -2.3443e-03,  1.9588e-03, -7.2152e-03,\n",
       "          -8.9899e-03, -9.5033e-03,  6.3955e-03, -7.9640e-03,  6.7576e-03,\n",
       "           2.2027e-03, -3.5109e-03,  1.8317e-03, -1.6575e-02,  8.4635e-03,\n",
       "          -3.6925e-03, -1.5363e-02, -1.8001e-03, -2.0203e-03, -5.4694e-03,\n",
       "           2.7339e-03,  6.1964e-03, -3.6424e-03,  7.7422e-03, -2.2192e-03,\n",
       "           2.5515e-03,  1.1165e-02,  1.3529e-04,  8.6517e-03,  8.3836e-03,\n",
       "          -9.2866e-03,  1.8927e-02, -2.3650e-03, -6.6516e-03, -2.5375e-03,\n",
       "          -8.0474e-04,  3.3353e-04,  2.0541e-02,  4.8808e-03, -2.6762e-03,\n",
       "           1.2105e-02,  5.1604e-03, -2.5596e-04,  3.2613e-03, -1.1688e-03,\n",
       "           7.6554e-03,  4.3554e-03, -1.8262e-03,  7.9785e-03,  2.2265e-03,\n",
       "          -3.6854e-03,  4.8355e-04, -1.6076e-03, -6.8836e-03,  3.2797e-03,\n",
       "           4.4825e-03,  6.6222e-03, -3.0672e-01, -6.2785e-03,  1.0353e-03,\n",
       "          -5.5178e-03,  3.2151e-04, -2.3432e-03, -1.7931e-03,  9.3269e-03,\n",
       "           4.4281e-03, -9.5321e-04, -7.0195e-03, -1.3095e-02, -7.0504e-03,\n",
       "           8.4219e-03, -1.5825e-02,  9.9486e-03,  6.3839e-03,  3.8073e-03,\n",
       "           2.1279e-03,  1.7479e-02,  1.0332e-03,  3.0064e-03,  3.9165e-03,\n",
       "           1.4649e-02,  5.9830e-03, -2.9347e-03,  1.2593e-02, -3.6999e-03,\n",
       "           1.8321e-03, -1.2834e-02, -5.2932e-03,  8.4563e-03, -4.7130e-03,\n",
       "           1.1143e-02,  5.0698e-03, -8.1515e-03,  1.6104e-03, -5.2409e-03,\n",
       "          -1.4934e-03,  8.3300e-03, -1.0029e-02,  7.4760e-03,  3.6012e-03,\n",
       "          -1.8801e-03,  1.1335e-02, -7.9417e-04,  6.4519e-03, -3.7574e-03,\n",
       "           3.0245e-02, -8.7425e-03, -5.2229e-02,  5.3270e-03,  1.0752e-02,\n",
       "           2.2630e-02,  1.4597e-03, -2.8865e-04,  2.1508e-03,  1.1720e-02,\n",
       "           2.5491e-04, -3.0293e-03, -6.7983e-04,  3.3103e-03,  1.3543e-03,\n",
       "          -1.5325e-04, -4.3945e-04, -1.1183e-02,  1.3310e-02, -1.5614e-02,\n",
       "           1.6982e-02,  3.9453e-03, -8.1789e-03,  3.3252e-03,  1.1678e-02,\n",
       "           1.6719e-03, -6.4820e-03,  2.1708e-02,  7.3699e-03, -2.8968e-04,\n",
       "          -2.3859e-03, -1.5729e-03,  8.8699e-03,  4.5859e-03,  8.2936e-03,\n",
       "           1.0127e-02,  1.3959e-02,  1.2353e-02, -3.7232e-03,  8.1166e-02,\n",
       "           1.2729e-03,  3.3404e-03, -4.8399e-03,  5.8684e-04,  8.7082e-03,\n",
       "          -1.9020e-03,  1.9096e-03,  1.4250e-03, -1.2060e-03, -2.5629e-03,\n",
       "          -7.9019e-04,  9.0179e-03, -7.3797e-03, -1.5717e-02, -1.4673e-02,\n",
       "           6.1976e-03,  9.5360e-03, -2.8081e-03, -9.7825e-03, -3.2181e-03,\n",
       "          -2.7100e-03, -8.5770e-03,  2.0166e-03,  9.0934e-03, -1.2660e-02,\n",
       "          -2.3185e-03,  9.1047e-03,  3.4088e-04, -4.5053e-03, -3.1860e-03,\n",
       "           1.2355e-02,  2.9971e-03,  4.8216e-03, -3.5590e-03,  6.9492e-05,\n",
       "           1.1577e-03, -4.2743e-03,  8.0123e-03,  1.4255e-02,  2.6913e-03,\n",
       "          -7.6987e-03, -5.6554e-03, -2.1742e-03, -6.7752e-03, -5.6506e-04,\n",
       "           1.3767e-03,  4.4750e-03, -2.2520e-03,  4.5584e-03,  2.7055e-03,\n",
       "           5.3564e-03,  1.8866e-02,  1.4229e-03,  1.2798e-03, -2.6556e-02,\n",
       "           1.6938e-02,  6.2038e-04, -4.9348e-03, -4.3448e-03,  6.7166e-03,\n",
       "          -5.4340e-03,  4.2444e-03, -1.7723e-03,  6.6344e-03, -1.3864e-03,\n",
       "           5.2584e-03,  7.3920e-03,  1.5738e-02, -5.6775e-03,  2.2231e-02,\n",
       "           8.8642e-04,  1.7523e-02,  2.1927e-03, -5.3489e-03, -1.0100e-02,\n",
       "           8.7569e-03, -7.3467e-03, -3.9052e-03, -1.4045e-03, -7.4839e-03,\n",
       "           6.0005e-03,  1.8463e-03,  1.5726e-02,  7.8119e-03,  1.4804e-04,\n",
       "           4.9644e-03, -1.3428e+00, -1.9325e-03,  8.2527e-03, -3.2246e-03,\n",
       "          -1.6028e-03, -7.3884e-03,  2.1006e-02, -2.8511e-03,  5.7828e-03,\n",
       "           1.2969e-03,  8.9021e-03,  6.0894e-04, -1.3392e-03, -1.0173e-02,\n",
       "           2.5205e-05,  8.5984e-03,  9.0118e-04,  9.6509e-03,  8.0168e-03,\n",
       "          -8.0302e-03, -3.2890e-03, -4.9120e-03,  2.7171e-04, -1.8329e-02,\n",
       "          -3.0826e-03,  2.1270e-03,  2.2576e-03, -9.8084e-03, -1.4799e-02,\n",
       "          -5.6601e-03, -1.4794e-03,  1.1933e-02,  8.1841e-04,  8.3261e-04,\n",
       "          -1.1539e-02,  1.1410e-02, -1.1304e-03, -3.9668e-03, -5.5196e-03,\n",
       "           1.4086e-03,  1.1334e-03, -2.1667e-03, -8.3081e-04,  3.9050e-03,\n",
       "          -6.0044e-04, -3.4638e-03, -1.5901e-03, -2.3853e-03,  9.9220e-03,\n",
       "          -2.7586e-03, -8.9135e-03, -1.0997e-02, -7.0489e-03, -1.0372e-02,\n",
       "           7.4143e-03, -4.9911e-03,  9.7245e-04, -1.0432e-02,  9.4660e-03,\n",
       "          -3.0762e-03, -2.8576e-03,  2.7195e-02, -9.2373e-04,  1.1547e-03,\n",
       "          -4.7922e-03, -3.3753e-05,  2.9329e-03,  6.9197e-03,  9.6290e-03,\n",
       "          -2.3893e-03,  1.6794e-02,  9.9673e-03, -4.4497e-02,  4.2400e-03,\n",
       "          -4.3058e-03,  3.4307e-03,  5.1170e-03,  1.0546e-02,  8.5878e-03,\n",
       "          -4.7588e-03,  1.0383e-03, -2.5895e-03,  5.9117e-03, -9.5936e-04,\n",
       "          -2.8119e-03, -2.0216e-01, -4.6227e-03,  1.0716e-02, -1.7684e-03,\n",
       "           3.5142e-03,  8.8344e-03,  9.1142e-03,  8.7032e-03, -2.2655e-02,\n",
       "           4.3810e-04,  1.5035e-02, -9.1258e-03,  1.7525e-03, -3.7343e-03,\n",
       "          -8.3411e-03,  1.7465e-03,  7.2477e-03, -5.5747e-03, -5.2613e-04,\n",
       "           2.2370e-03,  1.2483e-03,  1.3312e-02,  5.5461e-04,  2.6200e-03,\n",
       "          -1.5860e-03, -2.0926e-03,  1.1143e-03, -1.6720e-03,  1.4550e-02,\n",
       "          -1.7186e-02,  9.1260e-03, -9.2567e-03,  2.9319e-03, -1.1423e-03,\n",
       "          -2.5957e-03,  2.8802e-03,  2.7999e-02,  6.7549e-03, -1.3898e-03,\n",
       "           9.6895e-04, -9.0076e-04, -5.4006e-04, -1.1164e-03,  1.4677e-02,\n",
       "          -3.1672e-03, -1.1897e-02,  6.9825e-03,  1.5977e-03, -1.2795e-02,\n",
       "          -2.0991e-04, -3.3265e-03,  2.5331e-03,  1.2042e-02,  7.0454e-03,\n",
       "          -1.2269e-03,  1.0697e-02, -7.0175e-03,  1.9114e-03,  1.5167e-03,\n",
       "          -4.9763e-03,  9.1044e-03,  3.8312e-03,  1.2407e-02,  8.6010e-03,\n",
       "           1.1221e-02,  1.4393e-03,  1.2750e-03,  1.3583e-02,  2.0966e-06,\n",
       "           1.6597e-04,  1.5637e-02,  3.1928e-03, -3.5806e-02,  1.4099e-02,\n",
       "           4.0201e-03, -4.1783e-03,  1.4121e-02,  6.2086e-03,  6.8686e-03,\n",
       "          -1.0283e-02, -4.7256e-03, -4.1039e-03,  1.0718e-02, -8.1309e-04,\n",
       "          -9.7302e-03, -1.1940e+00, -9.3358e-03,  2.5369e-03,  4.0953e-03,\n",
       "           6.7736e-03,  3.2464e-03,  5.3103e-03,  1.0506e-02, -2.5851e-03,\n",
       "          -1.9803e-02,  1.5925e-02, -4.8552e-03, -2.5251e-03,  5.6164e-03,\n",
       "           1.9796e-03, -7.8567e-03,  4.0312e-03, -2.8565e-03,  6.6080e-02,\n",
       "          -1.8364e-03, -4.3896e-03,  2.8936e-02, -9.1188e-04, -5.4910e-03,\n",
       "           2.5456e-03, -1.2126e-02, -5.7100e-03, -5.0985e-03, -8.2611e-04,\n",
       "          -1.1557e-02,  5.6339e-04,  3.5721e-03, -2.5643e-03,  3.9462e-03,\n",
       "          -2.5717e-03, -5.5380e-03, -5.2317e-04, -1.4709e-02,  4.0226e-03,\n",
       "           1.5305e-03,  3.4099e-03, -9.0228e-03,  8.3332e-03,  6.2617e-03,\n",
       "           6.5607e-03,  1.1698e-02,  1.9051e-02, -9.4715e-03,  2.7201e-02,\n",
       "          -1.9576e-03,  5.5370e-03, -3.7238e-03, -7.0284e-03,  7.6624e-03,\n",
       "           4.7031e-03, -4.2114e-03,  8.8593e-04, -5.5214e-03, -5.5423e-03,\n",
       "           3.6021e-03,  5.5093e-03,  6.9244e-03,  1.1783e-02, -2.7733e-03,\n",
       "          -5.2520e-03,  3.8904e-03,  1.9257e-03,  3.5039e-03, -2.8435e-01,\n",
       "          -3.2494e-03,  5.5617e-04,  6.3324e-02,  6.7218e-02, -1.4144e-03,\n",
       "           1.1401e-02,  2.8729e-02,  7.3102e-03, -1.3825e-02, -7.3175e-03,\n",
       "           1.2422e-02,  4.4818e-03,  1.6108e-02,  2.0395e-02,  4.6892e-03,\n",
       "           1.1401e-02,  3.4465e-03,  1.0040e-01, -5.9538e-03,  2.2529e-03,\n",
       "           1.7221e-02,  2.9335e-04, -1.7460e-02, -8.4610e-04, -1.7859e-03,\n",
       "           7.4318e-04, -6.9710e-03,  4.9325e-03, -1.1660e-02,  2.1612e-02,\n",
       "           1.1949e-02, -5.3820e-04,  1.0787e-02, -4.1462e-03,  4.1876e-03,\n",
       "           5.4516e-03,  8.0245e-03, -1.2713e-02, -9.8553e-03, -6.2387e-03,\n",
       "           1.2248e-02, -2.9259e-02, -4.3748e-03, -3.4505e-03,  6.3043e-03,\n",
       "           2.6931e-04,  2.5577e-02,  2.6563e-03, -1.7188e-03,  1.1667e-01,\n",
       "          -4.9128e-04, -1.0398e-02,  6.1562e-03,  3.3801e-03, -1.4528e-03,\n",
       "           1.0983e-03,  9.8171e-04, -1.7274e-03,  1.3748e-03,  5.9703e-03,\n",
       "          -4.9558e-03,  7.2250e-03,  5.2486e-03,  2.6754e-03, -3.7408e-03,\n",
       "           2.4030e-02,  1.3765e-02, -7.9807e-03, -4.3919e-03, -4.8820e-03,\n",
       "           1.9708e-03,  3.4428e-03,  9.2771e-03, -3.7448e-03, -1.0646e-02,\n",
       "           7.4338e-03,  6.7301e-03,  8.3080e-03, -1.3449e-02,  3.4636e-03,\n",
       "          -1.0439e-02,  1.4663e-03,  7.4864e-03,  5.4742e-04, -8.4662e-03,\n",
       "           5.9471e-04,  3.6663e-03, -1.8231e-02, -1.9221e-03,  3.2895e-03,\n",
       "          -2.4951e-03, -4.9439e-03,  6.7458e-04, -3.7374e-03,  3.3479e-03,\n",
       "           1.1602e-02, -8.6477e-03,  2.8357e-03,  1.7473e-03, -9.5086e-03,\n",
       "          -4.8582e-03, -9.7565e-03, -3.6826e-03,  5.3704e-03,  5.3551e-03,\n",
       "           4.4242e-03,  1.8772e-03,  2.7948e-03,  6.4146e-03,  8.7770e-04,\n",
       "           2.1159e-03, -7.3114e-02, -8.0583e-03, -3.7403e-04, -3.7158e-03,\n",
       "          -1.8774e-02,  6.6617e-03,  2.9739e-01,  3.2789e-03,  5.1249e-03,\n",
       "           1.5893e-02,  1.1535e-02, -5.2899e-03, -3.2018e-03, -2.9388e-03,\n",
       "          -5.0275e-03, -3.8370e-04,  7.1137e-03,  4.3566e-03, -2.7865e-03,\n",
       "           2.9862e-03,  2.1939e-04,  1.1013e-02, -1.1982e-02,  2.1438e-04,\n",
       "          -1.4667e-02,  2.2133e-03, -3.7811e-04,  4.1774e-03, -1.5197e-03,\n",
       "          -6.5772e-03,  1.6900e-04,  1.2141e-02,  3.1845e-03, -8.2931e-03,\n",
       "          -1.2450e-03, -2.1882e-03,  2.5511e-03,  3.2833e-03,  1.8341e-02,\n",
       "          -1.7359e-01, -6.5518e-03, -2.2458e-03, -1.0184e-02,  1.3791e-02,\n",
       "           1.0748e-02,  1.5109e-03,  1.9288e-03, -1.2848e-02,  1.4968e-03,\n",
       "          -2.3447e-01, -1.6344e-03,  1.0449e-02,  8.3078e-03, -1.9125e-03,\n",
       "           9.8187e-03,  1.1611e-03,  7.6470e-03,  1.8062e-03,  1.0081e-04,\n",
       "           2.5708e-02,  1.6503e-02,  4.5935e-03,  6.4863e-03,  3.4405e-03,\n",
       "           4.8566e-04, -1.7930e-02, -1.0614e-03,  4.4258e-03,  1.8446e-02,\n",
       "           2.0431e-02,  4.5886e-03,  6.4472e-03, -1.6812e-03,  1.3616e-03,\n",
       "          -3.4873e-01,  7.0687e-04, -5.9118e-03]]])"
      ]
     },
     "execution_count": 8,
     "metadata": {},
     "output_type": "execute_result"
    }
   ],
   "source": [
    "w0['model']['mask_token']"
   ]
  },
  {
   "cell_type": "code",
   "execution_count": 1,
   "metadata": {},
   "outputs": [],
   "source": [
    "import torch\n",
    "w = torch.load('log/train_10/checkpoint-last.pth')"
   ]
  },
  {
   "cell_type": "code",
   "execution_count": 2,
   "metadata": {},
   "outputs": [
    {
     "data": {
      "text/plain": [
       "dict_keys(['model', 'optimizer', 'scaler', 'args', 'epoch', 'best_so_far'])"
      ]
     },
     "execution_count": 2,
     "metadata": {},
     "output_type": "execute_result"
    }
   ],
   "source": [
    "w.keys()"
   ]
  },
  {
   "cell_type": "code",
   "execution_count": 6,
   "metadata": {},
   "outputs": [
    {
     "data": {
      "text/plain": [
       "3.282068967819214"
      ]
     },
     "execution_count": 6,
     "metadata": {},
     "output_type": "execute_result"
    }
   ],
   "source": [
    "w['best_so_far']"
   ]
  },
  {
   "cell_type": "code",
   "execution_count": null,
   "metadata": {},
   "outputs": [],
   "source": []
  }
 ],
 "metadata": {
  "kernelspec": {
   "display_name": "dust3r",
   "language": "python",
   "name": "python3"
  },
  "language_info": {
   "codemirror_mode": {
    "name": "ipython",
    "version": 3
   },
   "file_extension": ".py",
   "mimetype": "text/x-python",
   "name": "python",
   "nbconvert_exporter": "python",
   "pygments_lexer": "ipython3",
   "version": "3.11.8"
  }
 },
 "nbformat": 4,
 "nbformat_minor": 2
}
